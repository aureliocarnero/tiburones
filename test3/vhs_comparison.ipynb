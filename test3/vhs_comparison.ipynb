{
 "cells": [
  {
   "cell_type": "code",
   "execution_count": 14,
   "metadata": {},
   "outputs": [],
   "source": [
    "#import skymapper as sk\n",
    "import numpy as np\n",
    "import matplotlib.pyplot as plt\n",
    "import astropy.io.fits as pf\n",
    "import seaborn as sns\n",
    "sns.set(style=\"darkgrid\")\n",
    "import pandas as pd\n"
   ]
  },
  {
   "cell_type": "code",
   "execution_count": 15,
   "metadata": {},
   "outputs": [
    {
     "name": "stdout",
     "output_type": "stream",
     "text": [
      "9318511\n",
      "1097866\n"
     ]
    }
   ],
   "source": [
    "data = pf.open('piece_of_vhs.fits')[1].data\n",
    "\n",
    "#ra = data['ra']\n",
    "#dec = data['dec']\n",
    "\n",
    "z = data['sof_cm_mag_corrected_z']\n",
    "r = data['sof_cm_mag_corrected_r']\n",
    "sg = data['EXTENDED_CLASS_MASH_SOF']\n",
    "K = data['ksapermag3']\n",
    "\n",
    "ksel = data['KSERRBITS']\n",
    "\n",
    "FLAGS_BADREGIONS = data['FLAGS_BADREGIONS']\n",
    "FLAGS_FOREGROUND = data['FLAGS_FOREGROUND']\n",
    "\n",
    "\n",
    "clean = (ksel==0)*(sg>=0)*(FLAGS_BADREGIONS==0)*(FLAGS_FOREGROUND==0)*(z>0)*(z<32)*(r>0)*(r<32)*(K>0)\n",
    "\n",
    "datared = data[clean]\n",
    "print(len(data))\n",
    "print(len(datared))"
   ]
  },
  {
   "cell_type": "code",
   "execution_count": 16,
   "metadata": {},
   "outputs": [
    {
     "name": "stdout",
     "output_type": "stream",
     "text": [
      "330.000002 349.999992\n",
      "-59.999984999999995 -50.000009999999996\n",
      "340.0021044522292 -54.93780818879172\n"
     ]
    },
    {
     "data": {
      "text/plain": [
       "(14, 24)"
      ]
     },
     "execution_count": 16,
     "metadata": {},
     "output_type": "execute_result"
    },
    {
     "data": {
      "image/png": "[encoded data removed]",
      "text/plain": [
       "<Figure size 432x288 with 1 Axes>"
      ]
     },
     "metadata": {},
     "output_type": "display_data"
    }
   ],
   "source": [
    "ra = datared['ra']\n",
    "dec = datared['dec']\n",
    "print(np.min(ra),np.max(ra))\n",
    "print(np.min(dec),np.max(dec))\n",
    "print(np.mean(ra),np.mean(dec))\n",
    "z = datared['sof_cm_mag_corrected_z']\n",
    "r = datared['sof_cm_mag_corrected_r']\n",
    "sg = datared['EXTENDED_CLASS_MASH_SOF']\n",
    "K = datared['ksapermag3']+1.827\n",
    "\n",
    "df = pd.DataFrame(dict(ks=K,sg=sg,r=r,z=z,rz=r-z,zK=z-K))\n",
    "\n",
    "\n",
    "sns.kdeplot(df.ks, shade=True,label='VHS')\n",
    "plt.axvline(22.7,label=r'Sharks $5\\sigma$ limit',linestyle='--')\n",
    "plt.legend()\n",
    "plt.xlabel('Ks (AB)')\n",
    "plt.ylabel('Number counts')\n",
    "plt.xlim([14,24])"
   ]
  },
  {
   "cell_type": "code",
   "execution_count": null,
   "metadata": {},
   "outputs": [],
   "source": [
    "fig = plt.figure(figsize=(8,7))\n",
    "#ax = fig..subplots()\n",
    "sc= plt.scatter(df.rz,df.zK,c=df.sg,s=1,cmap=plt.cm.get_cmap('RdYlBu'),alpha=0.1)\n",
    "\n",
    "cbar = fig.colorbar(sc, ticks=[0.5,2.5])#, ax=ax)\n",
    "cbar.ax.set_yticklabels(['stars', 'galaxies'])\n",
    "\n",
    "#plt.colorbar(sc,ax=ax)\n",
    "plt.xlabel('r-z (AB)')\n",
    "plt.ylabel('z-Ks (AB)')\n",
    "plt.xlim([-1.,5])\n",
    "plt.ylim([-3,4])\n",
    "plt.title(r'$DES \\cap VHS$')\n",
    "x = np.linspace(-1., 5., 100)\n",
    "y = 0.35*x\n",
    "plt.plot(x, y, c='black', lw=1, ls='--')\n",
    "\n",
    "#qso6 = pf.open('qso2.fits')[1].data\n",
    "#rqso = qso6['SOF_PSF_MAG_R']\n",
    "#zqso = qso6['SOF_PSF_MAG_Z']\n",
    "#ksqso = qso6['ksapermag3']+1.827\n",
    "\n",
    "#plt.plot(rqso-zqso,zqso-ksqso,'g*',label='QSO')\n",
    "#plt.plot(x2m,y2m, c='green', lw=2)\n",
    "plt.savefig('zks_rz.png')\n",
    "#sns.jointplot(x=\"rz\", y=\"zK\", data=df)\n",
    "#sns.scatter(x=\"rz\", y=\"zK\", hue=\"sg\", data=df)\n",
    "#sns.relplot(x=\"rz\", y=\"zK\", hue=\"sg\", data=df);"
   ]
  },
  {
   "cell_type": "code",
   "execution_count": null,
   "metadata": {},
   "outputs": [],
   "source": [
    "twomass = pf.open('fp_2mass_in_test_with_desvhs_forSLR.fits')[1].data\n",
    "\n",
    "k = twomass['kvista']\n",
    "r = twomass['SOF_CM_MAG_CORRECTED_R']\n",
    "z = twomass['SOF_CM_MAG_CORRECTED_z']\n",
    "\n",
    "sel = (k>0)*(r>0)*(r<30)*(z>0)*(z<30)\n",
    "\n",
    "twoclean = twomass[sel]\n",
    "\n",
    "k = twoclean['kvista']\n",
    "r = twoclean['SOF_CM_MAG_CORRECTED_R']\n",
    "z = twoclean['SOF_CM_MAG_CORRECTED_z']\n",
    "\n",
    "zk = z-k\n",
    "rz = r-z\n",
    "\n",
    "x = np.linspace(-1,5,60)\n",
    "x2m,y2m = [],[]\n",
    "for i in range(len(x)-1):\n",
    "    tempmask = (rz>x[i])*(rz<x[i+1])\n",
    "    Trz = rz[tempmask]\n",
    "    Tzk = zk[tempmask]\n",
    "    if len(Trz)>0:\n",
    "        x2m.append(np.mean(Trz))\n",
    "        y2m.append(np.mean(Tzk))\n",
    "\n",
    "        \n",
    "\n",
    "Dx2m,Dy2m = [],[]\n",
    "for i in range(len(x)-1):\n",
    "    tempmask = (df.rz>x[i])*(df.rz<x[i+1])*(df.sg==0)\n",
    "    Trz = df.rz[tempmask]\n",
    "    Tzk = df.zK[tempmask]\n",
    "    if len(Trz)>0:\n",
    "        Dx2m.append(np.mean(Trz))\n",
    "        Dy2m.append(np.mean(Tzk))\n"
   ]
  },
  {
   "cell_type": "code",
   "execution_count": null,
   "metadata": {},
   "outputs": [],
   "source": [
    "#2mass https://academic.oup.com/mnras/article/474/4/5459/4683252\n",
    "#Transformation from 2mass to VHS\n",
    "# Ks_V=Ks_2−(0.006±0.007)⋅(J−Ks)2"
   ]
  },
  {
   "cell_type": "code",
   "execution_count": null,
   "metadata": {},
   "outputs": [],
   "source": [
    "fig = plt.figure(figsize=(8,7))\n",
    "#ax = fig..subplots()\n",
    "sc= plt.scatter(df.rz,df.zK,c=df.sg,s=1,cmap=plt.cm.get_cmap('RdYlBu'),alpha=0.1)\n",
    "\n",
    "cbar = fig.colorbar(sc, ticks=[0.5,2.5])#, ax=ax)\n",
    "cbar.ax.set_yticklabels(['stars', 'galaxies'])\n",
    "\n",
    "#plt.colorbar(sc,ax=ax)\n",
    "plt.xlabel('r-z (AB)')\n",
    "plt.ylabel('z-Ks (AB)')\n",
    "plt.xlim([-1.,5])\n",
    "plt.ylim([-3,4])\n",
    "plt.title(r'$DES \\cap VHS$')\n",
    "x = np.linspace(-1., 5., 100)\n",
    "y = 0.35*x\n",
    "plt.plot(x, y, c='black', lw=1, ls='--')\n",
    "plt.plot(x2m,y2m, c='green', lw=2,label='2MASS')\n",
    "plt.plot(Dx2m,Dy2m, c='blue', lw=2,label='DES')\n",
    "plt.legend()\n",
    "plt.savefig('zks_rz_stellarlocus.png')\n",
    "#sns.jointplot(x=\"rz\", y=\"zK\", data=df)\n",
    "#sns.scatter(x=\"rz\", y=\"zK\", hue=\"sg\", data=df)\n",
    "#sns.relplot(x=\"rz\", y=\"zK\", hue=\"sg\", data=df);"
   ]
  },
  {
   "cell_type": "code",
   "execution_count": null,
   "metadata": {},
   "outputs": [],
   "source": []
  }
 ],
 "metadata": {
  "kernelspec": {
   "display_name": "Python 3",
   "language": "python",
   "name": "python3"
  },
  "language_info": {
   "codemirror_mode": {
    "name": "ipython",
    "version": 3
   },
   "file_extension": ".py",
   "mimetype": "text/x-python",
   "name": "python",
   "nbconvert_exporter": "python",
   "pygments_lexer": "ipython3",
   "version": "3.7.4"
  }
 },
 "nbformat": 4,
 "nbformat_minor": 2
}
